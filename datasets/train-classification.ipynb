{
 "cells": [
  {
   "cell_type": "code",
   "execution_count": 50,
   "metadata": {},
   "outputs": [
    {
     "name": "stdout",
     "output_type": "stream",
     "text": [
      "spc_inv_dataset1a.pkl (1583, 3, 86, 80) (1583, 6) 0.1401360034942627\n",
      "spc_inv_dataset1b.pkl (909, 3, 86, 80) (909, 6) 0.06305718421936035\n",
      "spc_inv_dataset1c.pkl (1276, 3, 86, 80) (1276, 6) 0.11711382865905762\n",
      "spc_inv_dataset1d.pkl (3432, 3, 86, 80) (3432, 6) 0.21420502662658691\n",
      "spc_inv_dataset1e.pkl (2822, 3, 86, 80) (2822, 6) 0.19518804550170898\n",
      "spc_inv_dataset1f.pkl (1572, 3, 86, 80) (1572, 6) 0.12311911582946777\n",
      "spc_inv_dataset1g.pkl (956, 3, 86, 80) (956, 6) 0.07407093048095703\n",
      "spc_inv_dataset1h.pkl (2762, 3, 86, 80) (2762, 6) 0.18317890167236328\n",
      "spc_inv_dataset1i.pkl (1449, 3, 86, 80) (1449, 6) 0.11510801315307617\n",
      "spc_inv_dataset1j.pkl (2226, 3, 86, 80) (2226, 6) 0.15913891792297363\n",
      "spc_inv_dataset1k.pkl (1491, 3, 86, 80) (1491, 6) 0.11813116073608398\n",
      "spc_inv_dataset1l.pkl (1493, 3, 86, 80) (1493, 6) 0.11611080169677734\n",
      "spc_inv_dataset1m.pkl (1128, 3, 86, 80) (1128, 6) 0.09709382057189941\n",
      "spc_inv_dataset1n.pkl (2168, 3, 86, 80) (2168, 6) 0.15815186500549316\n",
      "spc_inv_dataset1o.pkl (829, 3, 86, 80) (829, 6) 0.08107900619506836\n",
      "spc_inv_dataset1p.pkl (2452, 3, 86, 80) (2452, 6) 0.1821880340576172\n",
      "spc_inv_dataset1q.pkl (2217, 3, 86, 80) (2217, 6) 0.1721479892730713\n"
     ]
    }
   ],
   "source": [
    "import os\n",
    "import os.path\n",
    "import pickle\n",
    "import theano\n",
    "import theano.tensor as T\n",
    "import lasagne\n",
    "import numpy as np\n",
    "import time\n",
    "import matplotlib.pyplot as plt\n",
    "%matplotlib inline\n",
    "\n",
    "def loaddata(file):\n",
    "    with open(file, 'rb') as inFile:\n",
    "        states, actions, rewards = pickle.load(inFile)\n",
    "    \n",
    "    # states to numpy array between 0 and 1\n",
    "    states = np.asarray(states[0], dtype=theano.config.floatX)\n",
    "    states /= np.max(states)\n",
    "    states = np.swapaxes(np.swapaxes(states,1,3), 2,3)\n",
    "    \n",
    "    # actions to one_hot vector \n",
    "    actions = np.asarray(actions[0])\n",
    "    actionInds = np.unique(actions)\n",
    "#     print(actionInds)\n",
    "    # using hinge loss data must be -1 or 1\n",
    "    one_hot = -1 * np.ones((actions.shape[0], actionInds.size), dtype=theano.config.floatX)\n",
    "    # for loop because it's easy\n",
    "    for ind in range(actions.shape[0]):\n",
    "        actionRow = actions[ind]\n",
    "        actionInd = np.where(actionRow == actionInds)\n",
    "        one_hot[ind, actionInd] = 1\n",
    "    \n",
    "    return states, one_hot\n",
    "\n",
    "X = np.empty((0,3,86,80), dtype=theano.config.floatX)\n",
    "Y = np.empty((0, 6), dtype=theano.config.floatX)\n",
    "for dirs in os.listdir():\n",
    "    if os.path.isfile(dirs):\n",
    "        if 'dataset' in dirs and 'spc' in dirs:\n",
    "            st = time.time()\n",
    "            s, a = loaddata(dirs)\n",
    "            et = time.time()\n",
    "            print(dirs, s.shape, a.shape, et-st)\n",
    "            X = np.vstack((X, s))\n",
    "            Y = np.vstack((Y, a))"
   ]
  },
  {
   "cell_type": "code",
   "execution_count": 51,
   "metadata": {},
   "outputs": [
    {
     "name": "stdout",
     "output_type": "stream",
     "text": [
      "(30765, 3, 86, 80) float32 1.0 0.0\n",
      "(30765, 6) float32 1.0 -1.0\n"
     ]
    }
   ],
   "source": [
    "print(X.shape, X.dtype, np.max(X), np.min(X))\n",
    "print(Y.shape, Y.dtype, np.max(Y), np.min(Y))\n",
    "# truth must be -1 and 1\n",
    "assert(np.min(Y) == -1)"
   ]
  },
  {
   "cell_type": "code",
   "execution_count": 80,
   "metadata": {},
   "outputs": [],
   "source": [
    "# define the network\n",
    "from lasagne.regularization import regularize_network_params, l2\n",
    "clip = 1\n",
    "l_in = lasagne.layers.InputLayer((None,)+X.shape[1:])\n",
    "\n",
    "l_hid1 = lasagne.layers.Conv2DLayer(l_in, 16, (8, 8), stride=4, untie_biases=True)\n",
    "l_pool1 = lasagne.layers.MaxPool2DLayer(l_hid1, 2)\n",
    "\n",
    "l_hid2 = lasagne.layers.Conv2DLayer(l_pool1, 32, (4, 4), stride=2, untie_biases=True)\n",
    "l_pool2 = lasagne.layers.MaxPool2DLayer(l_hid2, 2)\n",
    "\n",
    "l_hid3 = lasagne.layers.DenseLayer(l_pool2, 256)\n",
    "l_out = lasagne.layers.DenseLayer(l_hid3, Y.shape[1], nonlinearity=lasagne.nonlinearities.linear)\n",
    "\n",
    "net_output = lasagne.layers.get_output(l_out)\n",
    "reg = regularize_network_params(l_out, l2)\n",
    "truth = T.matrix()\n",
    "loss = T.mean(T.maximum(0, 1-(truth * net_output))**2) + reg*0.001\n",
    "\n",
    "params = lasagne.layers.get_all_params(l_out)\n",
    "grads = lasagne.updates.total_norm_constraint(T.grad(loss, params), clip)\n",
    "update = lasagne.updates.rmsprop(grads, params, 0.002)\n",
    "\n",
    "train = theano.function([l_in.input_var, truth], loss, updates=update)\n",
    "get_output = theano.function([l_in.input_var], outputs=net_output)\n",
    "get_hid1_act = theano.function([l_in.input_var], outputs=lasagne.layers.get_output(l_hid1))\n",
    "get_hid2_act = theano.function([l_in.input_var], outputs=lasagne.layers.get_output(l_hid2))"
   ]
  },
  {
   "cell_type": "code",
   "execution_count": 99,
   "metadata": {},
   "outputs": [
    {
     "name": "stdout",
     "output_type": "stream",
     "text": [
      "0/854 cost: 0.37371885776519775\n",
      "100/854 cost: 0.38601985573768616\n",
      "200/854 cost: 0.31104838848114014\n",
      "300/854 cost: 0.36041030287742615\n",
      "400/854 cost: 0.422100305557251\n",
      "500/854 cost: 0.3054100573062897\n",
      "600/854 cost: 0.3722781538963318\n",
      "700/854 cost: 0.3194456100463867\n",
      "800/854 cost: 0.4595445692539215\n",
      "0/854 cost: 0.4235610365867615\n",
      "100/854 cost: 0.36477896571159363\n",
      "200/854 cost: 0.4396417438983917\n",
      "300/854 cost: 0.38509154319763184\n",
      "400/854 cost: 0.3010590076446533\n",
      "500/854 cost: 0.41129928827285767\n",
      "600/854 cost: 0.33103129267692566\n",
      "700/854 cost: 0.44796738028526306\n",
      "800/854 cost: 0.36640968918800354\n",
      "0/854 cost: 0.3504285514354706\n",
      "100/854 cost: 0.3858686089515686\n",
      "200/854 cost: 0.37160179018974304\n",
      "300/854 cost: 0.36685124039649963\n",
      "400/854 cost: 0.3374900221824646\n",
      "500/854 cost: 0.44647639989852905\n",
      "600/854 cost: 0.3597990870475769\n",
      "700/854 cost: 0.3560880124568939\n",
      "800/854 cost: 0.32332220673561096\n",
      "0/854 cost: 0.327944815158844\n",
      "100/854 cost: 0.40749096870422363\n",
      "200/854 cost: 0.38430356979370117\n",
      "300/854 cost: 0.343430757522583\n",
      "400/854 cost: 0.3750120997428894\n",
      "500/854 cost: 0.3518243730068207\n",
      "600/854 cost: 0.31549549102783203\n",
      "700/854 cost: 0.25854045152664185\n",
      "800/854 cost: 0.39046308398246765\n",
      "0/854 cost: 0.35666346549987793\n",
      "100/854 cost: 0.3733677566051483\n",
      "200/854 cost: 0.36067503690719604\n",
      "300/854 cost: 0.3355009853839874\n",
      "400/854 cost: 0.31778189539909363\n",
      "500/854 cost: 0.3655443489551544\n",
      "600/854 cost: 0.4015267789363861\n",
      "700/854 cost: 0.3668399751186371\n",
      "800/854 cost: 0.41832849383354187\n",
      "0/854 cost: 0.3201533257961273\n",
      "100/854 cost: 0.31170859932899475\n",
      "200/854 cost: 0.31115081906318665\n",
      "300/854 cost: 0.38683709502220154\n",
      "400/854 cost: 0.39307141304016113\n",
      "500/854 cost: 0.34921789169311523\n",
      "600/854 cost: 0.30466803908348083\n",
      "700/854 cost: 0.3652365505695343\n",
      "800/854 cost: 0.4356434643268585\n",
      "0/854 cost: 0.30900195240974426\n",
      "100/854 cost: 0.3245887756347656\n",
      "200/854 cost: 0.3780241310596466\n",
      "300/854 cost: 0.38259097933769226\n",
      "400/854 cost: 0.3562726080417633\n",
      "500/854 cost: 0.3510362207889557\n",
      "600/854 cost: 0.3677408695220947\n",
      "700/854 cost: 0.3552887439727783\n",
      "800/854 cost: 0.31470951437950134\n",
      "0/854 cost: 0.3452763259410858\n",
      "100/854 cost: 0.35672295093536377\n",
      "200/854 cost: 0.338350385427475\n",
      "300/854 cost: 0.43210023641586304\n",
      "400/854 cost: 0.2944832742214203\n",
      "500/854 cost: 0.3146340548992157\n",
      "600/854 cost: 0.3981461822986603\n",
      "700/854 cost: 0.4530543386936188\n",
      "800/854 cost: 0.3685854971408844\n",
      "0/854 cost: 0.39969757199287415\n",
      "100/854 cost: 0.3343545198440552\n",
      "200/854 cost: 0.26637908816337585\n",
      "300/854 cost: 0.30306488275527954\n",
      "400/854 cost: 0.32650649547576904\n",
      "500/854 cost: 0.304187536239624\n",
      "600/854 cost: 0.4459453523159027\n",
      "700/854 cost: 0.3368632197380066\n",
      "800/854 cost: 0.36240050196647644\n",
      "0/854 cost: 0.40098127722740173\n",
      "100/854 cost: 0.3943544030189514\n",
      "200/854 cost: 0.39593592286109924\n",
      "300/854 cost: 0.3179064691066742\n",
      "400/854 cost: 0.35740211606025696\n",
      "500/854 cost: 0.4125078022480011\n",
      "600/854 cost: 0.3422755300998688\n",
      "700/854 cost: 0.31371772289276123\n",
      "800/854 cost: 0.40001970529556274\n"
     ]
    }
   ],
   "source": [
    "def flipActions(actions):\n",
    "    threes = np.where(actions[:,2] == 1)    \n",
    "    fours = np.where(actions[:,3] == 1)\n",
    "    elevens = np.where(actions[:,4] == 1)\n",
    "    twelves = np.where(actions[:,5] == 1)\n",
    "    actions[threes, :] = -1\n",
    "    actions[threes, 3] = 1    \n",
    "    actions[fours, :] = -1    \n",
    "    actions[fours, 2] = 1\n",
    "    actions[elevens, :] = -1    \n",
    "    actions[elevens, 5] = 1\n",
    "    actions[twelves, :] = -1    \n",
    "    actions[twelves, 4] = 1\n",
    "    return actions\n",
    "import copy\n",
    "\n",
    "batchSize = 36\n",
    "mbs = int(np.floor(X.shape[0]/batchSize))\n",
    "for ep in range(10):\n",
    "    rp = np.random.permutation(X.shape[0])\n",
    "    for mb in range(mbs):\n",
    "        mbInd = rp[batchSize*mb:batchSize*mb+batchSize]\n",
    "        \n",
    "        # rand fliping\n",
    "#         if np.random.random() < 0.5:\n",
    "#             flipX = X[mbInd,:,:,::-1]\n",
    "#             flipY = flipActions(copy.deepcopy(Y[mbInd]))            \n",
    "#             cost = train(flipX, flipY)\n",
    "#         else:\n",
    "        cost = train(X[mbInd], Y[mbInd])\n",
    "        \n",
    "        if mb % 100 == 0:\n",
    "            print('{0}/{1} cost:'.format(mb, mbs), cost)"
   ]
  },
  {
   "cell_type": "code",
   "execution_count": 100,
   "metadata": {},
   "outputs": [],
   "source": [
    "def swapaxes(x):\n",
    "    return np.swapaxes(np.swapaxes(x,0,2),0,1)"
   ]
  },
  {
   "cell_type": "code",
   "execution_count": 101,
   "metadata": {},
   "outputs": [
    {
     "name": "stdout",
     "output_type": "stream",
     "text": [
      "(array([  75,   76,   81, ..., 4997, 4998, 4999], dtype=int64),)\n"
     ]
    }
   ],
   "source": [
    "h1 = get_hid1_act(X[0:5000])\n",
    "pred = get_output(X[0:5000])\n",
    "print(np.where(np.argmax(pred, axis=1)!=0))"
   ]
  },
  {
   "cell_type": "code",
   "execution_count": 102,
   "metadata": {},
   "outputs": [
    {
     "name": "stdout",
     "output_type": "stream",
     "text": [
      "(5000, 16, 20, 19)\n"
     ]
    },
    {
     "data": {
      "image/png": "[encoded data removed]"
     },
     "output_type": "display_data",
     "metadata": {}
    }
   ],
   "source": [
    "imgInd = 4999\n",
    "print(h1.shape)\n",
    "plt.subplot(1,2,1)\n",
    "plt.imshow(swapaxes(X[imgInd]))\n",
    "plt.title(np.argmax(pred[imgInd]))\n",
    "plt.subplot(1,2,2)\n",
    "plt.imshow(swapaxes(X[imgInd,:,:,::-1]))\n",
    "plt.title(np.argmax(get_output(X[imgInd,:,:,::-1].reshape(1,3,86,80))))\n",
    "plt.show()"
   ]
  },
  {
   "cell_type": "code",
   "execution_count": 103,
   "metadata": {},
   "outputs": [
    {
     "data": {
      "image/png": "[encoded data removed]"
     },
     "output_type": "display_data",
     "metadata": {}
    }
   ],
   "source": [
    "for hInd in range(h1.shape[1]):\n",
    "    plt.subplot(4,4,hInd+1)\n",
    "    plt.imshow(h1[imgInd, hInd], cmap=plt.cm.gray)\n",
    "plt.show()"
   ]
  },
  {
   "cell_type": "code",
   "execution_count": 104,
   "metadata": {},
   "outputs": [
    {
     "data": {
      "text/plain": [
       "[<matplotlib.lines.Line2D at 0x105e3c50>]"
      ]
     },
     "execution_count": 104,
     "output_type": "execute_result",
     "metadata": {}
    },
    {
     "data": {
      "image/png": "[encoded data removed]"
     },
     "output_type": "display_data",
     "metadata": {}
    }
   ],
   "source": [
    "plt.subplot(1,2,1)\n",
    "plt.plot(np.argmax(pred, axis=1),'.')\n",
    "plt.subplot(1,2,2)\n",
    "plt.plot(np.where(Y>0)[1],'.')"
   ]
  },
  {
   "cell_type": "code",
   "execution_count": 105,
   "metadata": {},
   "outputs": [
    {
     "name": "stdout",
     "output_type": "stream",
     "text": [
      "(5000, 6)\n"
     ]
    },
    {
     "data": {
      "text/plain": [
       "array([[ 0.28425238, -0.89200872, -0.49563628, -0.94915164, -1.02867663,\n",
       "        -1.07229686],\n",
       "       [ 0.26446283, -0.93931782, -0.42351407, -0.96693063, -1.04643166,\n",
       "        -1.09006238],\n",
       "       [ 0.26446283, -0.93931782, -0.42351407, -0.96693063, -1.04643166,\n",
       "        -1.09006238],\n",
       "       ..., \n",
       "       [-1.04782093, -1.17396855, -1.10017395,  0.75071597, -0.99455005,\n",
       "        -0.71845227],\n",
       "       [-1.1718632 , -1.19179177, -0.771034  ,  0.51032794, -0.93246394,\n",
       "        -0.77288938],\n",
       "       [-1.23256981, -1.24609613, -1.01152754,  0.82237804, -0.98693115,\n",
       "        -0.71829396]], dtype=float32)"
      ]
     },
     "execution_count": 105,
     "output_type": "execute_result",
     "metadata": {}
    }
   ],
   "source": [
    "print(pred.shape)\n",
    "pred"
   ]
  },
  {
   "cell_type": "code",
   "execution_count": 106,
   "metadata": {},
   "outputs": [
    {
     "data": {
      "text/plain": [
       "0.68679999999999997"
      ]
     },
     "execution_count": 106,
     "output_type": "execute_result",
     "metadata": {}
    }
   ],
   "source": [
    "np.sum(np.argmax(pred, axis=1) == np.argmax(Y[0:5000], axis=1))/pred.shape[0]"
   ]
  },
  {
   "cell_type": "code",
   "execution_count": 107,
   "metadata": {},
   "outputs": [],
   "source": [
    "with open('spccnn.pkl','wb') as outFile:\n",
    "    pickle.dump(lasagne.layers.get_all_param_values(l_out), outFile)"
   ]
  },
  {
   "cell_type": "code",
   "execution_count": null,
   "metadata": {},
   "outputs": [],
   "source": [
    "from sklearn.decomposition import PCA\n",
    "pca = PCA(3000, whiten=True)\n",
    "unravelX = X.reshape(X.shape[0], -1)\n",
    "pca.fit(unravelX)"
   ]
  },
  {
   "cell_type": "code",
   "execution_count": null,
   "metadata": {},
   "outputs": [],
   "source": [
    "pcaX = pca.transform(unravelX)\n",
    "print(pcaX.shape)"
   ]
  },
  {
   "cell_type": "code",
   "execution_count": null,
   "metadata": {},
   "outputs": [],
   "source": [
    "untransformX = pca.inverse_transform(pcaX)\n",
    "print(untransformX.shape)"
   ]
  },
  {
   "cell_type": "code",
   "execution_count": 80,
   "metadata": {},
   "outputs": [
    {
     "name": "stdout",
     "output_type": "stream",
     "text": [
      "(3829, 86, 80, 3)\n"
     ]
    }
   ],
   "source": [
    "unX = untransformX.reshape(3829, 3, 86, 80)\n",
    "unX = np.swapaxes(np.swapaxes(unX,1,3),1,2)\n",
    "print(unX.shape)"
   ]
  },
  {
   "cell_type": "code",
   "execution_count": 89,
   "metadata": {},
   "outputs": [
    {
     "data": {
      "text/plain": [
       "<matplotlib.image.AxesImage at 0x17cc10b8>"
      ]
     },
     "execution_count": 89,
     "output_type": "execute_result",
     "metadata": {}
    },
    {
     "data": {
      "image/png": "[encoded data removed]"
     },
     "output_type": "display_data",
     "metadata": {}
    }
   ],
   "source": [
    "imgInd = 1402\n",
    "plt.subplot(1,2,1)\n",
    "plt.imshow(unX[imgInd])\n",
    "plt.subplot(1,2,2)\n",
    "plt.imshow(np.swapaxes(np.swapaxes(X[imgInd],0,2),0,1,))"
   ]
  },
  {
   "cell_type": "code",
   "execution_count": null,
   "metadata": {},
   "outputs": [],
   "source": [
    ""
   ]
  },
  {
   "cell_type": "code",
   "execution_count": null,
   "metadata": {},
   "outputs": [],
   "source": [
    ""
   ]
  }
 ],
 "metadata": {
  "kernelspec": {
   "display_name": "Python 3",
   "language": "python",
   "name": "python3"
  },
  "language_info": {
   "codemirror_mode": {
    "name": "ipython",
    "version": 3.0
   },
   "file_extension": ".py",
   "mimetype": "text/x-python",
   "name": "python",
   "nbconvert_exporter": "python",
   "pygments_lexer": "ipython3",
   "version": "3.4.3"
  }
 },
 "nbformat": 4,
 "nbformat_minor": 0
}