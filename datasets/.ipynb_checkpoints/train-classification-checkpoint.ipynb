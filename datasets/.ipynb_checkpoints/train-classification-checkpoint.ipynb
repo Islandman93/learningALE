{
 "cells": [
  {
   "cell_type": "code",
   "execution_count": 4,
   "metadata": {
    "collapsed": false
   },
   "outputs": [
    {
     "name": "stdout",
     "output_type": "stream",
     "text": [
      "spc_inv_dataset1a.pkl\n",
      "spc_inv_dataset1b.pkl\n",
      "spc_inv_dataset1c.pkl\n",
      "spc_inv_dataset1d.pkl\n",
      "spc_inv_dataset1e.pkl\n",
      "spc_inv_dataset1f.pkl\n",
      "spc_inv_dataset1g.pkl\n",
      "spc_inv_dataset1h.pkl\n"
     ]
    }
   ],
   "source": [
    "import os\n",
    "import os.path\n",
    "\n",
    "\n",
    "for dirs in os.listdir():\n",
    "    if os.path.isfile(dirs):\n",
    "        if 'dataset' in dirs:\n",
    "            "
   ]
  },
  {
   "cell_type": "code",
   "execution_count": null,
   "metadata": {
    "collapsed": true
   },
   "outputs": [],
   "source": []
  }
 ],
 "metadata": {
  "kernelspec": {
   "display_name": "Python 3",
   "language": "python",
   "name": "python3"
  },
  "language_info": {
   "codemirror_mode": {
    "name": "ipython",
    "version": 3
   },
   "file_extension": ".py",
   "mimetype": "text/x-python",
   "name": "python",
   "nbconvert_exporter": "python",
   "pygments_lexer": "ipython3",
   "version": "3.4.3"
  }
 },
 "nbformat": 4,
 "nbformat_minor": 0
}
