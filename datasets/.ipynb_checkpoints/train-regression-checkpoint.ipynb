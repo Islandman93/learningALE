{
 "cells": [
  {
   "cell_type": "code",
   "execution_count": 2,
   "metadata": {
    "collapsed": false
   },
   "outputs": [
    {
     "name": "stdout",
     "output_type": "stream",
     "text": [
      "spc_inv_dataset1a.pkl (1583, 3, 86, 80) (1583, 6) 0.1341228485107422\n",
      "spc_inv_dataset1b.pkl (909, 3, 86, 80) (909, 6) 0.06706500053405762\n",
      "spc_inv_dataset1c.pkl (1276, 3, 86, 80) (1276, 6) 0.08407878875732422\n",
      "spc_inv_dataset1d.pkl (3432, 3, 86, 80) (3432, 6) 0.22120904922485352\n",
      "spc_inv_dataset1e.pkl (2822, 3, 86, 80) (2822, 6) 0.20419597625732422\n",
      "spc_inv_dataset1f.pkl (1572, 3, 86, 80) (1572, 6) 0.12011599540710449\n",
      "spc_inv_dataset1g.pkl (956, 3, 86, 80) (956, 6) 0.07708883285522461\n",
      "spc_inv_dataset1h.pkl (2762, 3, 86, 80) (2762, 6) 0.18719792366027832\n",
      "spc_inv_dataset1i.pkl (1449, 3, 86, 80) (1449, 6) 0.11009407043457031\n",
      "spc_inv_dataset1j.pkl (2226, 3, 86, 80) (2226, 6) 0.1561579704284668\n",
      "spc_inv_dataset1k.pkl (1491, 3, 86, 80) (1491, 6) 0.12013792991638184\n",
      "spc_inv_dataset1l.pkl (1493, 3, 86, 80) (1493, 6) 0.11311006546020508\n",
      "spc_inv_dataset1m.pkl (1128, 3, 86, 80) (1128, 6) 0.09110713005065918\n",
      "spc_inv_dataset1n.pkl (2168, 3, 86, 80) (2168, 6) 0.1571500301361084\n",
      "spc_inv_dataset1o.pkl (829, 3, 86, 80) (829, 6) 0.08007407188415527\n",
      "spc_inv_dataset1p.pkl (2452, 3, 86, 80) (2452, 6) 0.17418599128723145\n",
      "spc_inv_dataset1q.pkl (2217, 3, 86, 80) (2217, 6) 0.17316579818725586\n"
     ]
    }
   ],
   "source": [
    "import os\n",
    "import os.path\n",
    "import pickle\n",
    "import theano\n",
    "import theano.tensor as T\n",
    "import lasagne\n",
    "import numpy as np\n",
    "import time\n",
    "import matplotlib.pyplot as plt\n",
    "%matplotlib inline\n",
    "\n",
    "def loaddata(file):\n",
    "    with open(file, 'rb') as inFile:\n",
    "        states, actions, rewards = pickle.load(inFile)\n",
    "    \n",
    "    # states to numpy array between 0 and 1\n",
    "    states = np.asarray(states[0], dtype=theano.config.floatX)\n",
    "    states /= np.max(states)\n",
    "    states = np.swapaxes(np.swapaxes(states,1,3), 2,3)\n",
    "    \n",
    "    # actions to one_hot vector \n",
    "    actions = np.asarray(actions[0])\n",
    "    actionInds = np.unique(actions)\n",
    "#     print(actionInds)\n",
    "    # using hinge loss data must be -1 or 1\n",
    "    one_hot = -1 * np.ones((actions.shape[0], actionInds.size), dtype=theano.config.floatX)\n",
    "    # for loop because it's easy\n",
    "    for ind in range(actions.shape[0]):\n",
    "        actionRow = actions[ind]\n",
    "        actionInd = np.where(actionRow == actionInds)\n",
    "        one_hot[ind, actionInd] = 1\n",
    "    \n",
    "    return states, one_hot\n",
    "\n",
    "X = np.empty((0,3,86,80), dtype=theano.config.floatX)\n",
    "Y = np.empty((0, 6), dtype=theano.config.floatX)\n",
    "for dirs in os.listdir():\n",
    "    if os.path.isfile(dirs):\n",
    "        if 'dataset' in dirs and 'spc' in dirs:\n",
    "            st = time.time()\n",
    "            s, a = loaddata(dirs)\n",
    "            et = time.time()\n",
    "            print(dirs, s.shape, a.shape, et-st)\n",
    "            X = np.vstack((X, s))\n",
    "            Y = np.vstack((Y, a))"
   ]
  },
  {
   "cell_type": "code",
   "execution_count": 3,
   "metadata": {
    "collapsed": false
   },
   "outputs": [
    {
     "name": "stdout",
     "output_type": "stream",
     "text": [
      "(30765, 3, 86, 80) float32 1.0 0.0\n",
      "(30765, 6) float32 1.0 -1.0\n"
     ]
    }
   ],
   "source": [
    "print(X.shape, X.dtype, np.max(X), np.min(X))\n",
    "print(Y.shape, Y.dtype, np.max(Y), np.min(Y))\n",
    "# truth must be -1 and 1\n",
    "assert(np.min(Y) == -1)"
   ]
  },
  {
   "cell_type": "code",
   "execution_count": 4,
   "metadata": {
    "collapsed": false
   },
   "outputs": [],
   "source": [
    "# define the network\n",
    "from lasagne.regularization import regularize_network_params, l2\n",
    "clip = 1\n",
    "l_in = lasagne.layers.InputLayer((None,)+X.shape[1:])\n",
    "\n",
    "l_hid1 = lasagne.layers.Conv2DLayer(l_in, 16, (8, 8), untie_biases=True)\n",
    "l_pool1 = lasagne.layers.MaxPool2DLayer(l_hid1, 2)\n",
    "\n",
    "l_hid2 = lasagne.layers.Conv2DLayer(l_pool1, 32, (4, 4), untie_biases=True)\n",
    "l_pool2 = lasagne.layers.MaxPool2DLayer(l_hid2, 2)\n",
    "\n",
    "l_hid3 = lasagne.layers.DenseLayer(l_pool2, 256)\n",
    "l_out = lasagne.layers.DenseLayer(l_hid3, Y.shape[1], nonlinearity=lasagne.nonlinearities.linear)\n",
    "\n",
    "net_output = lasagne.layers.get_output(l_out)\n",
    "reg = regularize_network_params(l_out, l2)\n",
    "truth = T.matrix()\n",
    "loss = T.mean(T.maximum(0, 1-(truth * net_output))**2) + reg*0.001\n",
    "\n",
    "params = lasagne.layers.get_all_params(l_out)\n",
    "grads = lasagne.updates.total_norm_constraint(T.grad(loss, params), clip)\n",
    "update = lasagne.updates.rmsprop(grads, params, 0.002)\n",
    "\n",
    "train = theano.function([l_in.input_var, truth], loss, updates=update)\n",
    "get_output = theano.function([l_in.input_var], outputs=net_output)\n",
    "get_hid1_act = theano.function([l_in.input_var], outputs=lasagne.layers.get_output(l_hid1))\n",
    "get_hid2_act = theano.function([l_in.input_var], outputs=lasagne.layers.get_output(l_hid2))"
   ]
  },
  {
   "cell_type": "code",
   "execution_count": null,
   "metadata": {
    "collapsed": false
   },
   "outputs": [
    {
     "name": "stdout",
     "output_type": "stream",
     "text": [
      "0/854 cost: 0.23214523494243622\n",
      "100/854 cost:"
     ]
    }
   ],
   "source": [
    "def flipActions(actions):\n",
    "    threes = np.where(actions[:,2] == 1)    \n",
    "    fours = np.where(actions[:,3] == 1)\n",
    "    elevens = np.where(actions[:,4] == 1)\n",
    "    twelves = np.where(actions[:,5] == 1)\n",
    "    actions[threes, :] = -1\n",
    "    actions[threes, 3] = 1    \n",
    "    actions[fours, :] = -1    \n",
    "    actions[fours, 2] = 1\n",
    "    actions[elevens, :] = -1    \n",
    "    actions[elevens, 5] = 1\n",
    "    actions[twelves, :] = -1    \n",
    "    actions[twelves, 4] = 1\n",
    "    return actions\n",
    "import copy\n",
    "\n",
    "batchSize = 36\n",
    "mbs = int(np.floor(X.shape[0]/batchSize))\n",
    "for ep in range(10):\n",
    "    rp = np.random.permutation(X.shape[0])\n",
    "    for mb in range(mbs):\n",
    "        mbInd = rp[batchSize*mb:batchSize*mb+batchSize]\n",
    "        \n",
    "        # rand fliping\n",
    "        if np.random.random() < 0.5:\n",
    "            flipX = X[mbInd,:,:,::-1]\n",
    "            flipY = flipActions(copy.deepcopy(Y[mbInd]))            \n",
    "            cost = train(flipX, flipY)\n",
    "        else:\n",
    "            cost = train(X[mbInd], Y[mbInd])\n",
    "        \n",
    "        if mb % 100 == 0:\n",
    "            print('{0}/{1} cost:'.format(mb, mbs), cost)\n",
    "        "
   ]
  },
  {
   "cell_type": "code",
   "execution_count": null,
   "metadata": {
    "collapsed": true
   },
   "outputs": [],
   "source": [
    "def swapaxes(x):\n",
    "    return np.swapaxes(np.swapaxes(x,0,2),0,1)"
   ]
  },
  {
   "cell_type": "code",
   "execution_count": null,
   "metadata": {
    "collapsed": false
   },
   "outputs": [],
   "source": [
    "h1 = get_hid1_act(X[0:5000])\n",
    "pred = get_output(X[0:5000])\n",
    "print(np.where(np.argmax(pred, axis=1)!=0))"
   ]
  },
  {
   "cell_type": "code",
   "execution_count": null,
   "metadata": {
    "collapsed": false
   },
   "outputs": [],
   "source": [
    "imgInd = 4999\n",
    "print(h1.shape)\n",
    "plt.subplot(1,2,1)\n",
    "plt.imshow(swapaxes(X[imgInd]))\n",
    "plt.title(np.argmax(pred[imgInd]))\n",
    "plt.subplot(1,2,2)\n",
    "plt.imshow(swapaxes(X[imgInd,:,:,::-1]))\n",
    "plt.title(np.argmax(get_output(X[imgInd,:,:,::-1].reshape(1,3,86,80))))\n",
    "plt.show()\n"
   ]
  },
  {
   "cell_type": "code",
   "execution_count": null,
   "metadata": {
    "collapsed": false
   },
   "outputs": [],
   "source": [
    "for hInd in range(h1.shape[1]):\n",
    "    plt.subplot(4,4,hInd+1)\n",
    "    plt.imshow(h1[imgInd, hInd], cmap=plt.cm.gray)\n",
    "plt.show()"
   ]
  },
  {
   "cell_type": "code",
   "execution_count": null,
   "metadata": {
    "collapsed": false
   },
   "outputs": [],
   "source": [
    "plt.subplot(1,2,1)\n",
    "plt.plot(np.argmax(pred, axis=1),'.')\n",
    "plt.subplot(1,2,2)\n",
    "plt.plot(np.where(Y>0)[1],'.')"
   ]
  },
  {
   "cell_type": "code",
   "execution_count": null,
   "metadata": {
    "collapsed": false
   },
   "outputs": [],
   "source": [
    "print(pred.shape)\n",
    "pred"
   ]
  },
  {
   "cell_type": "code",
   "execution_count": null,
   "metadata": {
    "collapsed": false
   },
   "outputs": [],
   "source": [
    "np.sum(np.argmax(pred, axis=1) == np.argmax(Y[0:5000], axis=1))/pred.shape[0]"
   ]
  },
  {
   "cell_type": "code",
   "execution_count": 22,
   "metadata": {
    "collapsed": true
   },
   "outputs": [],
   "source": [
    "with open('spccnn.pkl','wb') as outFile:\n",
    "    pickle.dump(lasagne.layers.get_all_param_values(l_out), outFile)"
   ]
  },
  {
   "cell_type": "code",
   "execution_count": null,
   "metadata": {
    "collapsed": false
   },
   "outputs": [],
   "source": [
    "from sklearn.decomposition import PCA\n",
    "pca = PCA(3000, whiten=True)\n",
    "unravelX = X.reshape(X.shape[0], -1)\n",
    "pca.fit(unravelX)\n"
   ]
  },
  {
   "cell_type": "code",
   "execution_count": null,
   "metadata": {
    "collapsed": false
   },
   "outputs": [],
   "source": [
    "pcaX = pca.transform(unravelX)\n",
    "print(pcaX.shape)"
   ]
  },
  {
   "cell_type": "code",
   "execution_count": null,
   "metadata": {
    "collapsed": false
   },
   "outputs": [],
   "source": [
    "untransformX = pca.inverse_transform(pcaX)\n",
    "print(untransformX.shape)"
   ]
  },
  {
   "cell_type": "code",
   "execution_count": 80,
   "metadata": {
    "collapsed": false
   },
   "outputs": [
    {
     "name": "stdout",
     "output_type": "stream",
     "text": [
      "(3829, 86, 80, 3)\n"
     ]
    }
   ],
   "source": [
    "unX = untransformX.reshape(3829, 3, 86, 80)\n",
    "unX = np.swapaxes(np.swapaxes(unX,1,3),1,2)\n",
    "print(unX.shape)"
   ]
  },
  {
   "cell_type": "code",
   "execution_count": 89,
   "metadata": {
    "collapsed": false
   },
   "outputs": [
    {
     "data": {
      "text/plain": [
       "<matplotlib.image.AxesImage at 0x17cc10b8>"
      ]
     },
     "execution_count": 89,
     "metadata": {},
     "output_type": "execute_result"
    },
    {
     "data": {
      "image/png": "[encoded data removed]",
      "text/plain": [
       "<matplotlib.figure.Figure at 0x17c77fd0>"
      ]
     },
     "metadata": {},
     "output_type": "display_data"
    }
   ],
   "source": [
    "imgInd = 1402\n",
    "plt.subplot(1,2,1)\n",
    "plt.imshow(unX[imgInd])\n",
    "plt.subplot(1,2,2)\n",
    "plt.imshow(np.swapaxes(np.swapaxes(X[imgInd],0,2),0,1,))"
   ]
  },
  {
   "cell_type": "code",
   "execution_count": null,
   "metadata": {
    "collapsed": true
   },
   "outputs": [],
   "source": []
  },
  {
   "cell_type": "code",
   "execution_count": null,
   "metadata": {
    "collapsed": true
   },
   "outputs": [],
   "source": []
  }
 ],
 "metadata": {
  "kernelspec": {
   "display_name": "Python 3",
   "language": "python",
   "name": "python3"
  },
  "language_info": {
   "codemirror_mode": {
    "name": "ipython",
    "version": 3
   },
   "file_extension": ".py",
   "mimetype": "text/x-python",
   "name": "python",
   "nbconvert_exporter": "python",
   "pygments_lexer": "ipython3",
   "version": "3.4.3"
  }
 },
 "nbformat": 4,
 "nbformat_minor": 0
}
